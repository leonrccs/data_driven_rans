{
 "cells": [
  {
   "cell_type": "code",
   "execution_count": 1,
   "metadata": {},
   "outputs": [],
   "source": [
    "# general\n",
    "import sys, os, path\n",
    "import datetime\n",
    "\n",
    "# nn related\n",
    "import torch as th\n",
    "import numpy as np\n",
    "from numpy import linalg as la\n",
    "from sklearn.model_selection import train_test_split\n",
    "from sklearn.preprocessing import StandardScaler\n",
    "\n",
    "# postprocessing\n",
    "import matplotlib.pyplot as plt\n",
    "import matplotlib.tri as tri\n",
    "import matplotlib\n",
    "from scipy.interpolate import griddata\n",
    "from mpl_toolkits.axes_grid1.axes_divider import HBoxDivider\n",
    "import mpl_toolkits.axes_grid1.axes_size as Size\n",
    "import seaborn as sns\n",
    "import tikzplotlib as tikz\n",
    "\n",
    "# own scrips\n",
    "sys.path.insert(1, '/home/leonriccius/PycharmProjects/data_driven_rans')\n",
    "\n",
    "from scripts import preProcess as pre\n",
    "from scripts import TensorBasedNN\n",
    "from scripts.TensorBasedNN import TBNN_generic\n",
    "from scripts.utilities import * # get_invariants, get_tensor_functions, sigmoid_scaling, mean_std_scaling\n",
    "from scripts.torchToFoam import writesymmtensor\n",
    "from scripts.barymap import BarMap\n",
    "from scripts import *\n",
    "\n",
    "# standard datatype\n",
    "dtype = th.double"
   ]
  },
  {
   "cell_type": "code",
   "execution_count": 2,
   "metadata": {},
   "outputs": [],
   "source": [
    "path = '/home/leonriccius/OpenFOAM/leonriccius-v2006/run/curved_backstep/refined/13700_ml'\n",
    "rans_time = max([int(entry) for entry in os.listdir(path) if entry.isnumeric()])"
   ]
  },
  {
   "cell_type": "code",
   "execution_count": 3,
   "metadata": {},
   "outputs": [
    {
     "name": "stdout",
     "output_type": "stream",
     "text": [
      "Reading mesh cell centers /home/leonriccius/OpenFOAM/leonriccius-v2006/run/curved_backstep/refined/13700_ml/2085/cellCenters\n",
      "Attempting to read file: /home/leonriccius/OpenFOAM/leonriccius-v2006/run/curved_backstep/refined/13700_ml/2085/U\n",
      "Parsing file...\n",
      "Data field file successfully read.\n",
      "Attempting to read file: /home/leonriccius/OpenFOAM/leonriccius-v2006/run/curved_backstep/refined/13700_ml/0/U\n",
      "Parsing file...\n",
      "Data field file successfully read.\n"
     ]
    }
   ],
   "source": [
    "grid_rans = pre.readCellCenters(rans_time, path)\n",
    "u_rans = pre.readVectorData(rans_time, 'U', path)\n",
    "u_levm = pre.readVectorData('0', 'U', path)\n",
    "\n",
    "path_dns = '/home/leonriccius/Documents/Fluid_Data/training_data/curved_backstep/dns/13700'\n",
    "grid_dns = th.load(os.sep.join([path_dns, 'grid-torch.th']))\n",
    "u_dns = th.load(os.sep.join([path_dns, 'U-torch.th']))"
   ]
  },
  {
   "cell_type": "code",
   "execution_count": 22,
   "metadata": {},
   "outputs": [
    {
     "name": "stderr",
     "output_type": "stream",
     "text": [
      "<ipython-input-22-2085082f71ef>:34: MatplotlibDeprecationWarning: You are modifying the state of a globally registered colormap. In future versions, you will not be able to modify a registered colormap in-place. To remove this warning, you can make a copy of the colormap first. cmap = copy.copy(mpl.cm.get_cmap(\"coolwarm\"))\n",
      "  cmap.set_over([0.70567315799999997, 0.015556159999999999, 0.15023281199999999, 1.0])\n",
      "<ipython-input-22-2085082f71ef>:35: MatplotlibDeprecationWarning: You are modifying the state of a globally registered colormap. In future versions, you will not be able to modify a registered colormap in-place. To remove this warning, you can make a copy of the colormap first. cmap = copy.copy(mpl.cm.get_cmap(\"coolwarm\"))\n",
      "  cmap.set_under([0.2298057, 0.298717966, 0.75368315299999999, 1.0])\n"
     ]
    },
    {
     "data": {
      "image/png": "[encoded data removed]",
      "text/plain": [
       "<Figure size 486x405 with 4 Axes>"
      ]
     },
     "metadata": {
      "needs_background": "light"
     },
     "output_type": "display_data"
    }
   ],
   "source": [
    "nrows = 3\n",
    "ncols = 1\n",
    "s = 1.5\n",
    "\n",
    "idx = [0]\n",
    "\n",
    "ref = 15\n",
    "# x_min, x_max = 1.05*np.min(grid_rans[:,0].numpy()), 0.95*np.max(grid_rans[:,0].numpy())\n",
    "# y_min, y_max= 1.05*np.min(grid_rans[:,1].numpy()), 0.95*np.max(grid_rans[:,1].numpy())\n",
    "x_min, x_max = 0., 5.\n",
    "y_min, y_max = 0.05, 2.\n",
    "\n",
    "nx = int(ref*(x_max - x_min))\n",
    "ny = int(ref*(y_max - y_min))\n",
    "\n",
    "grid_x, grid_y = np.meshgrid(np.linspace(x_min, x_max, nx), np.linspace(y_min, y_max, ny))\n",
    "grid_y_shifted = cbfs_interp(grid_x)*(y_max - grid_y)/y_max + grid_y\n",
    "\n",
    "grid_u_rans = griddata(grid_rans[:,0:2], u_rans.detach().numpy()[:,idx[0]], (grid_x, grid_y_shifted), method = 'linear')\n",
    "grid_u_levm = griddata(grid_rans[:,0:2], u_levm.detach().numpy()[:,idx[0]], (grid_x, grid_y_shifted), method = 'linear')\n",
    "grid_u_dns = griddata(grid_dns[:,0:2], u_dns.detach().numpy()[:,idx[0]], (grid_x, grid_y_shifted), method = 'linear') #, fill_value=0.)\n",
    "\n",
    "# get min an max of (b_pred, b_test) for colormap\n",
    "tmp = th.cat((u_rans[:,idx[0]], u_dns[:,idx[0]])).detach().numpy()\n",
    "b_min = np.min(tmp)\n",
    "b_max = np.max(tmp)\n",
    "levels = np.linspace(b_min, b_max, 50)\n",
    "\n",
    "# # create figure\n",
    "fig, ax = plt.subplots(nrows=nrows, ncols=ncols, figsize=(s*4.5*ncols, s*1.25*nrows), sharex=True, sharey=True,\n",
    "                       constrained_layout=True)\n",
    "\n",
    "cmap = matplotlib.cm.get_cmap(\"coolwarm\")\n",
    "cmap.set_over([0.70567315799999997, 0.015556159999999999, 0.15023281199999999, 1.0])\n",
    "cmap.set_under([0.2298057, 0.298717966, 0.75368315299999999, 1.0])\n",
    "\n",
    "rans_plot = ax[0].contourf(grid_x, grid_y_shifted, grid_u_rans, levels = levels, cmap=cmap)\n",
    "levm_plot = ax[1].contourf(grid_x, grid_y_shifted, grid_u_levm, levels = levels, cmap=cmap)\n",
    "dns_plot = ax[2].contourf(grid_x, grid_y_shifted, grid_u_dns, levels = levels, cmap=cmap)\n",
    "\n",
    "# fig.colorbar(b_dd_plot, ax=ax.flat, aspect=15*ncols*nrows, format='%.2f', pad=0.0)\n",
    "fig.colorbar(rans_plot, ax=ax.flat, aspect=15*ncols*nrows, format='%.2f', pad=0.0)\n",
    "# fig.colorbar(b_dns_plot, ax=ax[1], aspect=15*ncols*nrows, format='%.2f', pad=0.0)\n",
    "\n",
    "x_off = -0.7\n",
    "y_off = 1.2\n",
    "\n",
    "ax[0].set_title(r'$\\langle U_x \\rangle$')\n",
    "\n",
    "ax[0].text(x_off,y_off, r'TBNN', fontsize='medium', ha='left')\n",
    "ax[1].text(x_off,y_off, r'LEVM', fontsize='medium', ha='left')\n",
    "ax[2].text(x_off,y_off, r'LES', fontsize='medium', ha='left')\n",
    "\n",
    "\n",
    "# save fig\n",
    "fig_path = '/home/leonriccius/gkm/Masters_Thesis/Images/curved_backstep'\n",
    "fig_name =  time() + '_U_x.pdf'\n",
    "# plt.savefig(os.sep.join([fig_path, fig_name]), format='pdf')"
   ]
  },
  {
   "cell_type": "code",
   "execution_count": null,
   "metadata": {},
   "outputs": [],
   "source": [
    "fig, ax = plt.subplots()\n",
    "ax.scatter(grid_x, grid_y_shifted)"
   ]
  },
  {
   "cell_type": "code",
   "execution_count": null,
   "metadata": {},
   "outputs": [],
   "source": []
  },
  {
   "cell_type": "code",
   "execution_count": null,
   "metadata": {},
   "outputs": [],
   "source": []
  },
  {
   "cell_type": "code",
   "execution_count": null,
   "metadata": {},
   "outputs": [],
   "source": []
  },
  {
   "cell_type": "code",
   "execution_count": null,
   "metadata": {},
   "outputs": [],
   "source": []
  },
  {
   "cell_type": "code",
   "execution_count": null,
   "metadata": {},
   "outputs": [],
   "source": []
  },
  {
   "cell_type": "code",
   "execution_count": null,
   "metadata": {},
   "outputs": [],
   "source": []
  },
  {
   "cell_type": "code",
   "execution_count": null,
   "metadata": {},
   "outputs": [],
   "source": []
  },
  {
   "cell_type": "code",
   "execution_count": null,
   "metadata": {},
   "outputs": [],
   "source": []
  },
  {
   "cell_type": "code",
   "execution_count": null,
   "metadata": {},
   "outputs": [],
   "source": [
    "# create figure\n",
    "fig, ax = plt.subplots(5, 3, figsize=(12,8), sharex=True, sharey=True, constrained_layout=True)\n",
    "\n",
    "for i in range(5):\n",
    "    unscaled = ax[i,0].tricontourf(cellCenters[:,0], cellCenters[:,1], inv[:,i])\n",
    "    mean_std = ax[i,1].tricontourf(cellCenters[:,0], cellCenters[:,1], inv_mean_std[:,i])\n",
    "    sigmoid = ax[i,2].tricontourf(cellCenters[:,0], cellCenters[:,1], inv_sigmoid[:,i])\n",
    "    \n",
    "    cbar_unscaled = fig.colorbar(unscaled, ax=ax[i,0], format='%.1f', pad=0.0)\n",
    "    cbar_mean_std = fig.colorbar(mean_std, ax=ax[i,1], format='%.1f', pad=0.0)\n",
    "    cbar_sigmoid = fig.colorbar(sigmoid, ax=ax[i,2], format='%.1f', pad=0.0)\n",
    "    \n",
    "    cbar_unscaled.ax.locator_params(nbins=5)\n",
    "    cbar_mean_std.ax.locator_params(nbins=5)\n",
    "    cbar_sigmoid.ax.locator_params(nbins=5)"
   ]
  }
 ],
 "metadata": {
  "kernelspec": {
   "display_name": "Python 3",
   "language": "python",
   "name": "python3"
  },
  "language_info": {
   "codemirror_mode": {
    "name": "ipython",
    "version": 3
   },
   "file_extension": ".py",
   "mimetype": "text/x-python",
   "name": "python",
   "nbconvert_exporter": "python",
   "pygments_lexer": "ipython3",
   "version": "3.8.5"
  }
 },
 "nbformat": 4,
 "nbformat_minor": 4
}
