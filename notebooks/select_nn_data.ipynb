{
 "cells": [
  {
   "cell_type": "code",
   "execution_count": 1,
   "metadata": {},
   "outputs": [],
   "source": [
    "import numpy as np\n",
    "import torch\n",
    "import matplotlib.pyplot as plt\n",
    "from scipy import interpolate\n",
    "from scipy.interpolate import griddata\n",
    "import warnings\n",
    "from numpy import linalg as la\n",
    "\n",
    "import torch as th\n",
    "dtype = torch.float\n",
    "# warnings.filterwarnings(\"ignore\", category=RuntimeWarning)"
   ]
  },
  {
   "cell_type": "markdown",
   "metadata": {},
   "source": [
    "**Calculation of invariants and tensor basis**"
   ]
  },
  {
   "cell_type": "code",
   "execution_count": 2,
   "metadata": {},
   "outputs": [],
   "source": [
    "# load DNS data\n",
    "data = np.loadtxt('tensor_data/Hill_Re2800_ASCII_Breuer.dat', skiprows=16)"
   ]
  },
  {
   "cell_type": "code",
   "execution_count": 3,
   "metadata": {},
   "outputs": [],
   "source": [
    "# get shape of data\n",
    "N, M = data.shape"
   ]
  },
  {
   "cell_type": "code",
   "execution_count": 4,
   "metadata": {},
   "outputs": [],
   "source": [
    "# extract relevant data from dataset\n",
    "RS_DNS = torch.tensor(np.array([data[:,6], data[:,9], np.full(N,0),\n",
    "                                data[:,9], data[:,7], np.full(N,0),\n",
    "                                np.full(N,0), np.full(N,0), data[:,8]]).T.reshape(-1,3,3))\n",
    "cellCenters_DNS = torch.tensor([data[:,0],data[:,1]]).T\n",
    "k0_DNS = torch.from_numpy(RS_DNS.numpy().trace(axis1 = 1, axis2 = 2))\n",
    "\n",
    "# expand k\n",
    "k_DNS = k0_DNS.unsqueeze(0).unsqueeze(0).expand(3,3,k0_DNS.size()[0])\n",
    "k_DNS = k_DNS.permute(2, 0, 1)\n",
    "\n",
    "# compute anisotropy tensor b\n",
    "b = RS_DNS/(2*k_DNS) - 1/3 * torch.eye(3).unsqueeze(0).expand(k0_DNS.shape[0],3,3)"
   ]
  },
  {
   "cell_type": "code",
   "execution_count": 5,
   "metadata": {},
   "outputs": [],
   "source": [
    "# read in RANS data + preprocessing\n",
    "path = '/home/leonriccius/OpenFOAM_build/OpenFOAM-v2006/custom_cases/periodic_hills_RANS/refined_mesh/kEpsilon/5600/1500/'\n",
    "\n",
    "# RS_RANS = torch.load(path + 'RS-torch.th')\n",
    "R = torch.load(path + 'R-torch.th')\n",
    "S = torch.load(path + 'S-torch.th')\n",
    "k0 = torch.load(path + 'k-torch.th')\n",
    "epsilon0 = torch.load(path + 'epsilon-torch.th')\n",
    "cellCenters_RANS = torch.tensor(torch.load(path + 'cellCenters-torch.th')[:,0:2])\n",
    "\n",
    "# expand k\n",
    "k = k0.unsqueeze(0).unsqueeze(0).expand(3,3,k0.size()[0])\n",
    "k = k.permute(2, 0, 1)\n",
    "\n",
    "# expand epsilon\n",
    "epsilon = epsilon0.unsqueeze(0).unsqueeze(0).expand(3,3,epsilon0.size()[0])\n",
    "epsilon = epsilon.permute(2, 0, 1)\n",
    "\n",
    "# normalize S and R\n",
    "r_hat = k/epsilon*R\n",
    "s_hat = k/epsilon*S"
   ]
  },
  {
   "cell_type": "markdown",
   "metadata": {},
   "source": [
    "**Calculation of invariants and tensor basis from Geneva**"
   ]
  },
  {
   "cell_type": "code",
   "execution_count": 6,
   "metadata": {},
   "outputs": [],
   "source": [
    "def getInvariants(s0, r0):\n",
    "    \"\"\"function for computation of tensor basis\n",
    "        Inputs:\n",
    "            s0: N x 3 x 3 (N is number of datapoints)\n",
    "            r0: N x 3 x 3\n",
    "        Outputs:\n",
    "            invar_sig : N x 5 (5 is number of scalar invariants)\n",
    "    \"\"\"\n",
    "    nCells = s0.size()[0]\n",
    "    invar = th.zeros(nCells, 5).type(dtype)\n",
    "\n",
    "    s2 = s0.bmm(s0)\n",
    "    r2 = r0.bmm(r0)\n",
    "    s3 = s2.bmm(s0)\n",
    "    r2s = r2.bmm(s0)\n",
    "    r2s2 = r2.bmm(s2)\n",
    "\n",
    "    invar[:,0] = (s2[:,0,0]+s2[:,1,1]+s2[:,2,2]) #Tr(s2)\n",
    "    invar[:,1] = (r2[:,0,0]+r2[:,1,1]+r2[:,2,2]) #Tr(r2)\n",
    "    invar[:,2] = (s3[:,0,0]+s3[:,1,1]+s3[:,2,2]) #Tr(s3)\n",
    "    invar[:,3] = (r2s[:,0,0]+r2s[:,1,1]+r2s[:,2,2]) #Tr(r2s)\n",
    "    invar[:,4] = (r2s2[:,0,0]+r2s2[:,1,1]+r2s2[:,2,2]) #Tr(r2s2)\n",
    "\n",
    "    # Scale invariants by sigmoid function\n",
    "    # Can use other scalings here\n",
    "    invar_sig = (1.0 - th.exp(-invar))/(1.0 + th.exp(-invar))\n",
    "    invar_sig[invar_sig != invar_sig] = 0\n",
    "\n",
    "    return invar_sig\n",
    "    \n",
    "def getTensorFunctions(s0, r0):\n",
    "    \"\"\"function for computation of tensor basis\n",
    "        Inputs:\n",
    "            s0: N x 3 x 3 (N is number of datapoints)\n",
    "            r0: N x 3 x 3\n",
    "        Outputs:\n",
    "            T : N x 10 x 3 x 3 (10 is number of basis tensors)\n",
    "    \"\"\"\n",
    "    \n",
    "    nCells = s0.size()[0]\n",
    "    T = th.zeros(nCells,10,3,3).type(dtype)\n",
    "\n",
    "    s2 = s0.bmm(s0)\n",
    "    r2 = r0.bmm(r0)\n",
    "    sr = s0.bmm(r0)\n",
    "    rs = r0.bmm(s0)\n",
    "\n",
    "    T[:,0] = s0\n",
    "    T[:,1] = sr - rs\n",
    "    T[:,2] = s2 - (1.0/3.0)*th.eye(3).type(dtype)*(s2[:,0,0]+s2[:,1,1]+s2[:,2,2]).unsqueeze(1).unsqueeze(1)\n",
    "    T[:,3] = r2 - (1.0/3.0)*th.eye(3).type(dtype)*(r2[:,0,0]+r2[:,1,1]+r2[:,2,2]).unsqueeze(1).unsqueeze(1)\n",
    "    T[:,4] = r0.bmm(s2) - s2.bmm(r0)\n",
    "    t0 = s0.bmm(r2)\n",
    "    T[:,5] = r2.bmm(s0) + s0.bmm(r2) - (2.0/3.0)*th.eye(3).type(dtype)*(t0[:,0,0]+t0[:,1,1]+t0[:,2,2]).unsqueeze(1).unsqueeze(1)\n",
    "    T[:,6] = rs.bmm(r2) - r2.bmm(sr)\n",
    "    T[:,7] = sr.bmm(s2) - s2.bmm(rs)\n",
    "    t0 = s2.bmm(r2)\n",
    "    T[:,8] = r2.bmm(s2) + s2.bmm(r2) - (2.0/3.0)*th.eye(3).type(dtype)*(t0[:,0,0]+t0[:,1,1]+t0[:,2,2]).unsqueeze(1).unsqueeze(1)\n",
    "    T[:,9] = r0.bmm(s2).bmm(r2) + r2.bmm(s2).bmm(r0)\n",
    "\n",
    "    # Scale the tensor basis functions by the L2 norm\n",
    "    l2_norm = th.zeros(T.size(0), 10)\n",
    "    l2_norm = 0\n",
    "    for (i, j), x in np.ndenumerate(np.zeros((3,3))):\n",
    "        l2_norm += th.pow(T[:,:,i,j],2)\n",
    "    T = T/th.sqrt(l2_norm).unsqueeze(2).unsqueeze(3)\n",
    "\n",
    "    return T"
   ]
  },
  {
   "cell_type": "code",
   "execution_count": 7,
   "metadata": {},
   "outputs": [],
   "source": [
    "# compute invariants\n",
    "inv = getInvariants(s_hat, r_hat)\n",
    "T = getTensorFunctions(s_hat, r_hat)"
   ]
  },
  {
   "cell_type": "markdown",
   "metadata": {},
   "source": [
    "**Interpolation on grid first, computation of invariants and tensorbasis second**"
   ]
  },
  {
   "cell_type": "code",
   "execution_count": 8,
   "metadata": {},
   "outputs": [],
   "source": [
    "# # interpolating on cartesian grid\n",
    "# grid_x, grid_y = np.mgrid[3.:4.:100j, 1.:2.:100j]\n",
    "# grid = [grid_x, grid_y]\n",
    "\n",
    "# # interpolating DNS data (b)\n",
    "# b_interp = torch.tensor(griddata(cellCenters_DNS_box, b_box, (grid_x, grid_y), method='linear')).flatten(end_dim = 1)\n",
    "\n",
    "# # interpolating RANS data (r_hat, s_hat)\n",
    "# r_hat_interp = torch.tensor(griddata(cellCenters_RANS_box, r_hat_box, (grid_x, grid_y), method='linear')).flatten(end_dim = 1)\n",
    "# s_hat_interp = torch.tensor(griddata(cellCenters_RANS_box, s_hat_box, (grid_x, grid_y), method='linear')).flatten(end_dim = 1)\n",
    "\n",
    "# # reshaping grid\n",
    "# grid_interp = torch.tensor([grid_x.flatten(), grid_y.flatten()]).T\n",
    "\n",
    "# # store all data needed for the NN\n",
    "# torch.save(r_hat_interp, 'tensor_data/r_hat-torch.th')\n",
    "# torch.save(s_hat_interp, 'tensor_data/s_hat-torch.th')\n",
    "# torch.save(b_interp, 'tensor_data/b_DNS-torch.th')\n",
    "# torch.save(grid_interp, 'tensor_data/grid-torch.th')\n",
    "\n",
    "# fig, ax = plt.subplots()\n",
    "# # ax.scatter(grid_interp[:,0], grid_interp[:,1])\n",
    "# ax.contourf(grid_x, grid_y, griddata(cellCenters_RANS, s_hat, (grid_x, grid_y), method='linear')[:,:,0,0])"
   ]
  },
  {
   "cell_type": "markdown",
   "metadata": {},
   "source": [
    "**Computation of invariants and tensorbasis first, interpolation on grid second**"
   ]
  },
  {
   "cell_type": "code",
   "execution_count": 9,
   "metadata": {},
   "outputs": [],
   "source": [
    "# interpolating DNS data (b)\n",
    "grid_x, grid_y = np.mgrid[3.:4.:30j, 1.:2.:30j]\n",
    "grid = [grid_x, grid_y]\n",
    "b_interp = torch.tensor(griddata(cellCenters_DNS, b, (grid_x, grid_y), method='linear')).flatten(end_dim = 1)\n",
    "\n",
    "# interpolating invariants and tensor functions\n",
    "inv_interp = torch.tensor(griddata(cellCenters_RANS, inv, (grid_x, grid_y), method='linear')).flatten(end_dim = 1)\n",
    "T_interp = torch.tensor(griddata(cellCenters_RANS, T, (grid_x, grid_y), method='linear')).flatten(end_dim = 1)\n",
    "\n",
    "# reshaping grid\n",
    "grid_interp = torch.tensor([grid_x.flatten(), grid_y.flatten()]).T\n",
    "\n",
    "#store tensor needed for NN\n",
    "# torch.save(b_interp, 'tensor_data/post_interpolation/b_DNS-torch.th')\n",
    "# torch.save(inv_interp, 'tensor_data/post_interpolation/inv-torch.th')\n",
    "# torch.save(T_interp, 'tensor_data/post_interpolation/T-torch.th')\n",
    "# torch.save(grid_interp, 'tensor_data/post_interpolation/grid-torch.th')"
   ]
  },
  {
   "cell_type": "markdown",
   "metadata": {},
   "source": [
    "**Visualization of QoI**"
   ]
  },
  {
   "cell_type": "code",
   "execution_count": 10,
   "metadata": {},
   "outputs": [
    {
     "data": {
      "text/plain": [
       "<matplotlib.colorbar.Colorbar at 0x7f2a5b5b9040>"
      ]
     },
     "execution_count": 10,
     "metadata": {},
     "output_type": "execute_result"
    },
    {
     "data": {
      "image/png": "[encoded data removed]",
      "text/plain": [
       "<Figure size 1440x360 with 2 Axes>"
      ]
     },
     "metadata": {
      "needs_background": "light"
     },
     "output_type": "display_data"
    }
   ],
   "source": [
    "# making grid for domain\n",
    "grid_all_x, grid_all_y = np.mgrid[0.:9.:300j, 0.:3.035:100j]\n",
    "grid_all_z1 = griddata(cellCenters_RANS, inv[:,3], (grid_all_x, grid_all_y), method='linear')\n",
    "\n",
    "# remove Nan data points under hill crest\n",
    "mask_1 = np.isnan(grid_all_z1)\n",
    "grid_all_z1[mask_1] = 0\n",
    "# mask_2 = np.where(grid_all_z1<-0.45)\n",
    "# grid_all_z1[mask_2] = -0.45\n",
    "# mask_3 = np.where(grid_all_z1>-0.05)\n",
    "# grid_all_z1[mask_3] = -0.05\n",
    "fig, ax = plt.subplots(figsize=(20,5))\n",
    "DNS_all_domain = ax.contourf(grid_all_x, grid_all_y, grid_all_z1[:,:])\n",
    "fig.colorbar(DNS_all_domain, ax=ax)"
   ]
  },
  {
   "cell_type": "code",
   "execution_count": 11,
   "metadata": {},
   "outputs": [
    {
     "data": {
      "text/plain": [
       "<matplotlib.collections.PathCollection at 0x7f2a5cc205e0>"
      ]
     },
     "execution_count": 11,
     "metadata": {},
     "output_type": "execute_result"
    },
    {
     "data": {
      "image/png": "[encoded data removed]",
      "text/plain": [
       "<Figure size 936x288 with 1 Axes>"
      ]
     },
     "metadata": {
      "needs_background": "light"
     },
     "output_type": "display_data"
    }
   ],
   "source": [
    "# plot datapoints of RANS\n",
    "fig, ax = plt.subplots(figsize=(13,4), tight_layout=True)\n",
    "ax.scatter(cellCenters_RANS[:,0], cellCenters_RANS[:,1], s=0.02)"
   ]
  },
  {
   "cell_type": "code",
   "execution_count": 12,
   "metadata": {},
   "outputs": [
    {
     "ename": "NameError",
     "evalue": "name 'cellCenters_DNS_box' is not defined",
     "output_type": "error",
     "traceback": [
      "\u001b[0;31m---------------------------------------------------------------------------\u001b[0m",
      "\u001b[0;31mNameError\u001b[0m                                 Traceback (most recent call last)",
      "\u001b[0;32m<ipython-input-12-208aafdcd623>\u001b[0m in \u001b[0;36m<module>\u001b[0;34m\u001b[0m\n\u001b[1;32m      2\u001b[0m \u001b[0;34m\u001b[0m\u001b[0m\n\u001b[1;32m      3\u001b[0m \u001b[0mgrid_z1\u001b[0m \u001b[0;34m=\u001b[0m \u001b[0mb_interp\u001b[0m\u001b[0;34m[\u001b[0m\u001b[0;34m:\u001b[0m\u001b[0;34m,\u001b[0m\u001b[0;36m1\u001b[0m\u001b[0;34m,\u001b[0m\u001b[0;36m0\u001b[0m\u001b[0;34m]\u001b[0m\u001b[0;34m.\u001b[0m\u001b[0mreshape\u001b[0m\u001b[0;34m(\u001b[0m\u001b[0;36m30\u001b[0m\u001b[0;34m,\u001b[0m\u001b[0;36m30\u001b[0m\u001b[0;34m)\u001b[0m  \u001b[0;31m# RS_DNS\u001b[0m\u001b[0;34m\u001b[0m\u001b[0;34m\u001b[0m\u001b[0m\n\u001b[0;32m----> 4\u001b[0;31m \u001b[0mgrid_z2\u001b[0m \u001b[0;34m=\u001b[0m \u001b[0mgriddata\u001b[0m\u001b[0;34m(\u001b[0m\u001b[0mcellCenters_DNS_box\u001b[0m\u001b[0;34m,\u001b[0m \u001b[0mb_box\u001b[0m\u001b[0;34m[\u001b[0m\u001b[0;34m:\u001b[0m\u001b[0;34m,\u001b[0m\u001b[0;36m0\u001b[0m\u001b[0;34m,\u001b[0m\u001b[0;36m0\u001b[0m\u001b[0;34m]\u001b[0m\u001b[0;34m,\u001b[0m \u001b[0;34m(\u001b[0m\u001b[0mfine_grid_x\u001b[0m\u001b[0;34m,\u001b[0m \u001b[0mfine_grid_y\u001b[0m\u001b[0;34m)\u001b[0m\u001b[0;34m,\u001b[0m \u001b[0mmethod\u001b[0m\u001b[0;34m=\u001b[0m\u001b[0;34m'linear'\u001b[0m\u001b[0;34m)\u001b[0m\u001b[0;34m\u001b[0m\u001b[0;34m\u001b[0m\u001b[0m\n\u001b[0m",
      "\u001b[0;31mNameError\u001b[0m: name 'cellCenters_DNS_box' is not defined"
     ]
    }
   ],
   "source": [
    "fine_grid_x, fine_grid_y = np.mgrid[3.:4.:500j, 1.:2.:500j]\n",
    "\n",
    "grid_z1 = b_interp[:,1,0].reshape(30,30)  # RS_DNS\n",
    "grid_z2 = griddata(cellCenters_DNS_box, b_box[:,0,0], (fine_grid_x, fine_grid_y), method='linear')"
   ]
  },
  {
   "cell_type": "code",
   "execution_count": null,
   "metadata": {},
   "outputs": [],
   "source": [
    "fig, ax = plt.subplots(1, 2, figsize=(12,5))\n",
    "DNS_griddata = ax[0].contourf(grid_x, grid_y, grid_z1)\n",
    "DNS_box = ax[1].contourf(fine_grid_x, fine_grid_y, grid_z2)\n",
    "fig.colorbar(DNS_griddata, ax=ax[0])\n",
    "fig.colorbar(DNS_box, ax=ax[1])\n",
    "# plt.title('interp2d')\n",
    "ax[0].set_title('griddata')\n",
    "ax[1].set_title('DNS')"
   ]
  },
  {
   "cell_type": "code",
   "execution_count": null,
   "metadata": {},
   "outputs": [],
   "source": []
  },
  {
   "cell_type": "code",
   "execution_count": null,
   "metadata": {},
   "outputs": [],
   "source": []
  },
  {
   "cell_type": "code",
   "execution_count": null,
   "metadata": {},
   "outputs": [],
   "source": []
  },
  {
   "cell_type": "code",
   "execution_count": null,
   "metadata": {},
   "outputs": [],
   "source": []
  },
  {
   "cell_type": "code",
   "execution_count": null,
   "metadata": {},
   "outputs": [],
   "source": []
  },
  {
   "cell_type": "markdown",
   "metadata": {},
   "source": [
    "**Older code snippets that might be needed later but are not in use now**"
   ]
  },
  {
   "cell_type": "code",
   "execution_count": null,
   "metadata": {},
   "outputs": [],
   "source": [
    "# def bounding_box(x_lim, y_lim, cellCenters):\n",
    "#     \"\"\"function for creating a mask to select points within a bounding box\"\"\"\n",
    "#     mask_x_min = np.where(cellCenters[:,0] > x_lim[0])\n",
    "#     mask_x_max = np.where(cellCenters[mask_x_min,0].squeeze() < x_lim[1])\n",
    "#     cellCenters_x = cellCenters[mask_x_min][mask_x_max]\n",
    "    \n",
    "#     mask_y_min = np.where(cellCenters_x[:,1] > y_lim[0])\n",
    "#     mask_y_max = np.where(cellCenters_x[mask_y_min,1].squeeze() < y_lim[1])\n",
    "#     return (mask_x_min, mask_x_max, mask_y_min, mask_y_max)"
   ]
  },
  {
   "cell_type": "code",
   "execution_count": null,
   "metadata": {},
   "outputs": [],
   "source": [
    "# def select_from_mask(mask_list, array):\n",
    "#     \"\"\"function that selects the datapoints when given a list of masks\n",
    "#     list must contain 4 masks created from bounding_box\"\"\"\n",
    "#     return array[mask_list[0]][mask_list[1]][mask_list[2]][mask_list[3]]"
   ]
  },
  {
   "cell_type": "code",
   "execution_count": null,
   "metadata": {},
   "outputs": [],
   "source": [
    "# # creating mask for data selection from RANS field\n",
    "# mask_list = bounding_box([2.75,4.25],[0.75,2.25], cellCenters_RANS)"
   ]
  },
  {
   "cell_type": "code",
   "execution_count": null,
   "metadata": {},
   "outputs": [],
   "source": [
    "# # selecting RANS data in bounding box\n",
    "# cellCenters_RANS_box = select_from_mask(mask_list, cellCenters_RANS)\n",
    "# r_hat_box = select_from_mask(mask_list, r_hat)\n",
    "# s_hat_box = select_from_mask(mask_list, s_hat)"
   ]
  },
  {
   "cell_type": "code",
   "execution_count": null,
   "metadata": {},
   "outputs": [],
   "source": [
    "# # creating mask for data selection from DNS field\n",
    "# mask_list_DNS = bounding_box([2.75, 4.25], [0.75, 2.25], cellCenters_DNS)\n",
    "\n",
    "# # selecting DNS data in bounding box\n",
    "# cellCenters_DNS_box = select_from_mask(mask_list_DNS, cellCenters_DNS)\n",
    "# RS_DNS_box = select_from_mask(mask_list_DNS, RS_DNS)\n",
    "# b_box = select_from_mask(mask_list_DNS, b)\n",
    "# cellCenters_DNS_box.shape"
   ]
  },
  {
   "cell_type": "code",
   "execution_count": null,
   "metadata": {},
   "outputs": [],
   "source": []
  }
 ],
 "metadata": {
  "kernelspec": {
   "display_name": "Python 3",
   "language": "python",
   "name": "python3"
  },
  "language_info": {
   "codemirror_mode": {
    "name": "ipython",
    "version": 3
   },
   "file_extension": ".py",
   "mimetype": "text/x-python",
   "name": "python",
   "nbconvert_exporter": "python",
   "pygments_lexer": "ipython3",
   "version": "3.8.3"
  }
 },
 "nbformat": 4,
 "nbformat_minor": 4
}
