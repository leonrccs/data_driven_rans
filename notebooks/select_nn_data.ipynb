{
 "cells": [
  {
   "cell_type": "code",
   "execution_count": 1,
   "metadata": {},
   "outputs": [],
   "source": [
    "import numpy as np\n",
    "import torch\n",
    "import matplotlib.pyplot as plt\n",
    "from scipy import interpolate\n",
    "from scipy.interpolate import griddata\n",
    "import warnings\n",
    "\n",
    "# warnings.filterwarnings(\"ignore\", category=RuntimeWarning)"
   ]
  },
  {
   "cell_type": "code",
   "execution_count": 2,
   "metadata": {},
   "outputs": [],
   "source": [
    "data = np.loadtxt('tensor_data/Hill_Re2800_ASCII_Breuer.dat', skiprows=16)"
   ]
  },
  {
   "cell_type": "code",
   "execution_count": 3,
   "metadata": {},
   "outputs": [],
   "source": [
    "N, M = data.shape"
   ]
  },
  {
   "cell_type": "code",
   "execution_count": 4,
   "metadata": {},
   "outputs": [],
   "source": [
    "# read in DNS data + preprocessing\n",
    "RS_DNS = torch.tensor(np.array([data[:,6], data[:,9], np.full(N,0),\n",
    "                                data[:,9], data[:,7], np.full(N,0),\n",
    "                                np.full(N,0), np.full(N,0), data[:,8]]).T.reshape(-1,3,3))\n",
    "cellCenters_DNS = torch.tensor([data[:,0],data[:,1]]).T\n",
    "k0_DNS = torch.from_numpy(RS_DNS.numpy().trace(axis1 = 1, axis2 = 2))\n",
    "\n",
    "# expand k\n",
    "k_DNS = k0_DNS.unsqueeze(0).unsqueeze(0).expand(3,3,k0_DNS.size()[0])\n",
    "k_DNS = k_DNS.permute(2, 0, 1)\n",
    "\n",
    "# compute anisotropy tensor b\n",
    "b = RS_DNS * (1/(2*k_DNS)) - 1/3 * torch.ones(k_DNS.size())"
   ]
  },
  {
   "cell_type": "code",
   "execution_count": 5,
   "metadata": {},
   "outputs": [],
   "source": [
    "# read in RANS data + preprocessing\n",
    "path = '/home/leonriccius/OpenFOAM_build/OpenFOAM-v2006/custom_cases/periodic_hills_RANS/refined_mesh/5600_kEpsilon/1500/'\n",
    "\n",
    "# RS_RANS = torch.load(path + 'RS-torch.th')\n",
    "R = torch.load(path + 'R-torch.th')\n",
    "S = torch.load(path + 'S-torch.th')\n",
    "k0 = torch.load(path + 'k-torch.th')\n",
    "epsilon0 = torch.load(path + 'epsilon-torch.th')\n",
    "cellCenters_RANS = torch.tensor(torch.load(path + 'cellCenters-torch.th')[:,0:2])\n",
    "\n",
    "# expand k\n",
    "k = k0.unsqueeze(0).unsqueeze(0).expand(3,3,k0.size()[0])\n",
    "k = k.permute(2, 0, 1)\n",
    "\n",
    "# expand epsilon\n",
    "epsilon = epsilon0.unsqueeze(0).unsqueeze(0).expand(3,3,epsilon0.size()[0])\n",
    "epsilon = epsilon.permute(2, 0, 1)\n",
    "\n",
    "# normalize S and R\n",
    "r_hat = k/epsilon*R\n",
    "s_hat = k/epsilon*S"
   ]
  },
  {
   "cell_type": "code",
   "execution_count": 6,
   "metadata": {},
   "outputs": [],
   "source": [
    "def bounding_box(x_lim, y_lim, cellCenters):\n",
    "    \"\"\"function for creating a mask to select points within a bounding box\"\"\"\n",
    "    mask_x_min = np.where(cellCenters[:,0] > x_lim[0])\n",
    "    mask_x_max = np.where(cellCenters[mask_x_min,0].squeeze() < x_lim[1])\n",
    "    cellCenters_x = cellCenters[mask_x_min][mask_x_max]\n",
    "    \n",
    "    mask_y_min = np.where(cellCenters_x[:,1] > y_lim[0])\n",
    "    mask_y_max = np.where(cellCenters_x[mask_y_min,1].squeeze() < y_lim[1])\n",
    "    return (mask_x_min, mask_x_max, mask_y_min, mask_y_max)"
   ]
  },
  {
   "cell_type": "code",
   "execution_count": 7,
   "metadata": {},
   "outputs": [],
   "source": [
    "def select_from_mask(mask_list, array):\n",
    "    \"\"\"function that selects the datapoints when given a list of masks\n",
    "    list must contain 4 masks created from bounding_box\"\"\"\n",
    "    return array[mask_list[0]][mask_list[1]][mask_list[2]][mask_list[3]]"
   ]
  },
  {
   "cell_type": "code",
   "execution_count": 8,
   "metadata": {},
   "outputs": [],
   "source": [
    "# creating mask for data selection from RANS field\n",
    "mask_list = bounding_box([2.75,4.25],[0.75,2.25], cellCenters_RANS)"
   ]
  },
  {
   "cell_type": "code",
   "execution_count": 9,
   "metadata": {},
   "outputs": [],
   "source": [
    "# selecting RANS data in bounding box\n",
    "cellCenters_RANS_box = select_from_mask(mask_list, cellCenters_RANS)\n",
    "r_hat_box = select_from_mask(mask_list, r_hat)\n",
    "s_hat_box = select_from_mask(mask_list, s_hat)"
   ]
  },
  {
   "cell_type": "code",
   "execution_count": 10,
   "metadata": {},
   "outputs": [
    {
     "data": {
      "text/plain": [
       "torch.Size([2184, 2])"
      ]
     },
     "execution_count": 10,
     "metadata": {},
     "output_type": "execute_result"
    }
   ],
   "source": [
    "# creating mask for data selection from DNS field\n",
    "mask_list_DNS = bounding_box([2.75, 4.25], [0.75, 2.25], cellCenters_DNS)\n",
    "\n",
    "# selecting DNS data in bounding box\n",
    "cellCenters_DNS_box = select_from_mask(mask_list_DNS, cellCenters_DNS)\n",
    "RS_DNS_box = select_from_mask(mask_list_DNS, RS_DNS)\n",
    "b_box = select_from_mask(mask_list_DNS, b)\n",
    "cellCenters_DNS_box.shape"
   ]
  },
  {
   "cell_type": "code",
   "execution_count": 11,
   "metadata": {},
   "outputs": [],
   "source": [
    "# interpolating on cartesian grid\n",
    "grid_x, grid_y = np.mgrid[3.:4.:100j, 1.:2.:100j]\n",
    "grid = [grid_x, grid_y]\n",
    "\n",
    "# interpolating DNS data (b)\n",
    "b_interp = torch.tensor(griddata(cellCenters_DNS_box, b_box, (grid_x, grid_y), method='linear')).flatten(end_dim = 1)\n",
    "\n",
    "# interpolating RANS data (r_hat, s_hat)\n",
    "r_hat_interp = torch.tensor(griddata(cellCenters_RANS_box, r_hat_box, (grid_x, grid_y), method='linear')).flatten(end_dim = 1)\n",
    "s_hat_interp = torch.tensor(griddata(cellCenters_RANS_box, s_hat_box, (grid_x, grid_y), method='linear')).flatten(end_dim = 1)\n",
    "\n",
    "# reshaping grid\n",
    "grid_interp = torch.tensor([grid_x.flatten(), grid_y.flatten()]).T\n",
    "\n",
    "# store all data needed for the NN\n",
    "torch.save(r_hat_interp, 'tensor_data/r_hat-torch.th')\n",
    "torch.save(s_hat_interp, 'tensor_data/s_hat-torch.th')\n",
    "torch.save(b_interp, 'tensor_data/b_DNS-torch.th')\n",
    "torch.save(grid_interp, 'tensor_data/grid-torch.th')"
   ]
  },
  {
   "cell_type": "code",
   "execution_count": 12,
   "metadata": {},
   "outputs": [],
   "source": [
    "\"\"\" first try, interpolation does not work. no idea why it does not work. now using griddata.\n",
    "this was also very inefficient as interp2d interpolated to a grid of all x- and y-combination and then only diagonal entries can be used\n",
    "\"\"\"\n",
    "def interpolate_tensor_to_grid(grid_old, grid_new, tensor, tensor_type='symmetric'):\n",
    "    \"\"\"function to interpolate data from one geometry to another\"\"\"\n",
    "    tensor_interp = torch.zeros(grid_new.shape[0],3,3)\n",
    "    # three cases for symmetric, antimetric and all remaining types\n",
    "    if tensor_type=='symmetric':\n",
    "        for i in range(3):\n",
    "            for j in range(3):\n",
    "                if i > j: # loop over off diagonal\n",
    "                    f_interp = interpolate.interp2d(grid_old[:,0].flatten(),\n",
    "                                                    grid_old[:,1].flatten(),\n",
    "                                                    tensor[:,i,j].flatten(),\n",
    "                                                    kind='linear')\n",
    "                    tmp1 = f_interp(grid_new[:,0], grid_new[:,1])\n",
    "                    tmp2 = tmp1.diagonal()\n",
    "                    tensor_interp[:,i,j] = torch.tensor(tmp2)\n",
    "                    tensor_interp[:,j,i] = torch.tensor(tmp2)\n",
    "                elif i == j:  # loop over diagonal\n",
    "                    f_interp = interpolate.interp2d(grid_old[:,0].flatten(),\n",
    "                                                    grid_old[:,1].flatten(),\n",
    "                                                    tensor[:,i,j].flatten(),\n",
    "                                                    kind='linear')\n",
    "                    tmp = f_interp(grid_new[:,0], grid_new[:,1]).diagonal()\n",
    "                    tensor_interp[:,i,j] = torch.tensor(tmp)\n",
    "    elif tensor_type=='antimetric':\n",
    "        for i in range(3):\n",
    "            for j in range(3):\n",
    "                if i > j: # loop over off diagonal, no loop over diagonal needed as they are 0\n",
    "                    f_interp = interpolate.interp2d(grid_old[:,0].flatten(),\n",
    "                                                    grid_old[:,1].flatten(),\n",
    "                                                    tensor[:,i,j].flatten(),\n",
    "                                                    kind='linear')\n",
    "                    tmp = f_interp(grid_new[:,0], grid_new[:,1]).diagonal()\n",
    "                    tensor_interp[:,i,j] = torch.tensor(tmp)\n",
    "                    tensor_interp[:,j,i] = -torch.tensor(tmp)\n",
    "    else:\n",
    "        for i in range(3):  # loop over all elements\n",
    "            for j in range(3):\n",
    "                f_interp = interpolate.interp2d(grid_old[:,0].flatten(),\n",
    "                                                grid_old[:,1].flatten(),\n",
    "                                                tensor[:,i,j].flatten(),\n",
    "                                                kind='linear')\n",
    "                tmp = f_interp(grid_new[:,0], grid_new[:,1]).diagonal()\n",
    "                tensor_interp[:,i,j] = torch.tensor(tmp)\n",
    "    return tensor_interp"
   ]
  },
  {
   "cell_type": "code",
   "execution_count": 13,
   "metadata": {},
   "outputs": [
    {
     "name": "stderr",
     "output_type": "stream",
     "text": [
      "/home/leonriccius/.local/lib/python3.8/site-packages/scipy/interpolate/_fitpack_impl.py:976: RuntimeWarning: No more knots can be added because the number of B-spline\n",
      "coefficients already exceeds the number of data points m.\n",
      "Probable causes: either s or m too small. (fp>s)\n",
      "\tkx,ky=1,1 nx,ny=39,62 m=2184 fp=0.000000 s=0.000000\n",
      "  warnings.warn(RuntimeWarning(_iermess2[ierm][0] + _mess))\n",
      "<ipython-input-12-00f4caa3ec1e>:26: UserWarning: The given NumPy array is not writeable, and PyTorch does not support non-writeable tensors. This means you can write to the underlying (supposedly non-writeable) NumPy array using the tensor. You may want to copy the array to protect its data or make it writeable before converting it to a tensor. This type of warning will be suppressed for the rest of this program. (Triggered internally at  /pytorch/torch/csrc/utils/tensor_numpy.cpp:141.)\n",
      "  tensor_interp[:,i,j] = torch.tensor(tmp)\n",
      "/home/leonriccius/.local/lib/python3.8/site-packages/scipy/interpolate/_fitpack_impl.py:976: RuntimeWarning: No more knots can be added because the number of B-spline\n",
      "coefficients already exceeds the number of data points m.\n",
      "Probable causes: either s or m too small. (fp>s)\n",
      "\tkx,ky=1,1 nx,ny=45,54 m=2184 fp=0.000000 s=0.000000\n",
      "  warnings.warn(RuntimeWarning(_iermess2[ierm][0] + _mess))\n",
      "/home/leonriccius/.local/lib/python3.8/site-packages/scipy/interpolate/_fitpack_impl.py:976: RuntimeWarning: No more knots can be added because the number of B-spline\n",
      "coefficients already exceeds the number of data points m.\n",
      "Probable causes: either s or m too small. (fp>s)\n",
      "\tkx,ky=1,1 nx,ny=42,57 m=2184 fp=0.000000 s=0.000000\n",
      "  warnings.warn(RuntimeWarning(_iermess2[ierm][0] + _mess))\n",
      "/home/leonriccius/.local/lib/python3.8/site-packages/scipy/interpolate/_fitpack_impl.py:976: RuntimeWarning: A theoretically impossible result when finding a smoothing spline\n",
      "with fp = s. Probable causes: s too small or badly chosen eps.\n",
      "(abs(fp-s)/s>0.001)\n",
      "\tkx,ky=1,1 nx,ny=41,42 m=2184 fp=0.000000 s=0.000000\n",
      "  warnings.warn(RuntimeWarning(_iermess2[ierm][0] + _mess))\n"
     ]
    }
   ],
   "source": [
    "b_interp2d = interpolate_tensor_to_grid(cellCenters_DNS_box, cellCenters_RANS_box, b_box)"
   ]
  },
  {
   "cell_type": "code",
   "execution_count": 14,
   "metadata": {},
   "outputs": [],
   "source": [
    "fine_grid_x, fine_grid_y = np.mgrid[3.:4.:500j, 1.:2.:500j]\n",
    "\n",
    "grid_z1 = griddata(cellCenters_RANS_box, b_interp2d[:,1,1], (fine_grid_x, fine_grid_y), method='linear')\n",
    "grid_z2 = b_interp[:,1,1].reshape(100,100)  # RS_DNS\n",
    "grid_z3 = griddata(cellCenters_DNS_box, b_box[:,1,1], (fine_grid_x, fine_grid_y), method='linear')"
   ]
  },
  {
   "cell_type": "code",
   "execution_count": 15,
   "metadata": {},
   "outputs": [
    {
     "data": {
      "text/plain": [
       "Text(0.5, 1.0, 'DNS')"
      ]
     },
     "execution_count": 15,
     "metadata": {},
     "output_type": "execute_result"
    },
    {
     "data": {
      "image/png": "[encoded data removed]",
      "text/plain": [
       "<Figure size 1440x360 with 6 Axes>"
      ]
     },
     "metadata": {
      "needs_background": "light"
     },
     "output_type": "display_data"
    }
   ],
   "source": [
    "fig, ax = plt.subplots(1, 3, figsize=(20,5))\n",
    "DNS_interp2d = ax[0].contourf(fine_grid_x, fine_grid_y, grid_z1)\n",
    "DNS_griddata = ax[1].contourf(grid_x, grid_y, grid_z2)\n",
    "DNS_box = ax[2].contourf(fine_grid_x, fine_grid_y, grid_z3)\n",
    "fig.colorbar(DNS_interp2d, ax=ax[0])\n",
    "fig.colorbar(DNS_griddata, ax=ax[1])\n",
    "fig.colorbar(DNS_box, ax=ax[2])\n",
    "# plt.title('interp2d')\n",
    "ax[0].set_title('interp2d')\n",
    "ax[1].set_title('griddata')\n",
    "ax[2].set_title('DNS')"
   ]
  },
  {
   "cell_type": "code",
   "execution_count": null,
   "metadata": {},
   "outputs": [],
   "source": []
  }
 ],
 "metadata": {
  "kernelspec": {
   "display_name": "Python 3",
   "language": "python",
   "name": "python3"
  },
  "language_info": {
   "codemirror_mode": {
    "name": "ipython",
    "version": 3
   },
   "file_extension": ".py",
   "mimetype": "text/x-python",
   "name": "python",
   "nbconvert_exporter": "python",
   "pygments_lexer": "ipython3",
   "version": "3.8.3"
  }
 },
 "nbformat": 4,
 "nbformat_minor": 4
}
