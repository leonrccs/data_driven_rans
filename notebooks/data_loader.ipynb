{
 "cells": [
  {
   "cell_type": "code",
   "execution_count": 34,
   "metadata": {},
   "outputs": [],
   "source": [
    "import sys, os, path\n",
    "import numpy as np\n",
    "import torch as th\n",
    "from scipy.interpolate import interp1d\n",
    "from scipy.interpolate import griddata\n",
    "import matplotlib.pyplot as plt\n",
    "\n",
    "sys.path.insert(1, '/home/leonriccius/PycharmProjects/data_driven_rans/scripts/')\n",
    "from utilities import get_invariants, get_tensor_functions"
   ]
  },
  {
   "cell_type": "code",
   "execution_count": 35,
   "metadata": {},
   "outputs": [],
   "source": [
    "train_data_path = '/home/leonriccius/Documents/Fluid_Data/training_data/periodic_hills'\n",
    "# on workstation: home/leon/Master_Thesis/Fluid_Data ...\n",
    "rans_time = '1500'"
   ]
  },
  {
   "cell_type": "code",
   "execution_count": 36,
   "metadata": {},
   "outputs": [
    {
     "name": "stdout",
     "output_type": "stream",
     "text": [
      "['2800', '1400', '700', '5600', '10595']\n"
     ]
    }
   ],
   "source": [
    "cases = os.listdir(os.sep.join([train_data_path, 'tensordata']))\n",
    "print(cases)"
   ]
  },
  {
   "cell_type": "code",
   "execution_count": 37,
   "metadata": {},
   "outputs": [],
   "source": [
    "# funcion of the bottom boundary\n",
    "# characteristic points\n",
    "x = (1.929/54) * np.array([0., 0.1, 9., 14., 20., 30., 40., 53.9, 54.])\n",
    "x = np.append(x, 9 - x[::-1])\n",
    "y = (1.929/54) * np.array([28., 28., 27., 24., 19., 11., 4., 0., 0.])\n",
    "y = np.append(y, y[::-1])\n",
    "\n",
    "# spline interpolation\n",
    "f_bottom = interp1d(x, y, kind='cubic', fill_value='extrapolate')"
   ]
  },
  {
   "cell_type": "code",
   "execution_count": 38,
   "metadata": {},
   "outputs": [],
   "source": [
    "# function to create mask for points selection\n",
    "def mask_boundary_points(x, y, blthickness = 0.15):\n",
    "    mask = np.ones(x.shape, dtype=bool)\n",
    "    y_interp = f_bottom(x)\n",
    "    mask[np.where(y < y_interp + blthickness)] = False\n",
    "    mask[np.where(y > 3.035 - blthickness)] = False\n",
    "    mask[np.where(x < 0. + blthickness)] = False\n",
    "    mask[np.where(x > 9. - blthickness)] = False\n",
    "    return mask"
   ]
  },
  {
   "cell_type": "code",
   "execution_count": 39,
   "metadata": {},
   "outputs": [],
   "source": [
    "# define grid for interpolation\n",
    "grid_x, grid_y = np.mgrid[0.:9.:150j, 0.:3.05:50j]\n",
    "grid = th.tensor([grid_x.flatten(), grid_y.flatten()]).T\n",
    "\n",
    "# get mask for points selection\n",
    "mask = mask_boundary_points(grid_x.flatten(), grid_y.flatten())"
   ]
  },
  {
   "cell_type": "code",
   "execution_count": 40,
   "metadata": {},
   "outputs": [],
   "source": [
    "# loop for rans data\n",
    "for case in cases:\n",
    "    # define current path and read in data\n",
    "    curr_case = os.sep.join([train_data_path, 'rans', case, rans_time])\n",
    "    rs_rans = th.load(os.sep.join([curr_case, 'RS-torch.th']))\n",
    "    s = th.load(os.sep.join([curr_case, 'S-torch.th']))\n",
    "    r = th.load(os.sep.join([curr_case, 'R-torch.th']))\n",
    "    epsilon0 = th.load(os.sep.join([curr_case, 'epsilon-torch.th']))\n",
    "    k0 = th.load(os.sep.join([curr_case, 'k-torch.th']))\n",
    "    cellCenters = th.load(os.sep.join([curr_case, 'cellCenters-torch.th']))[:,0:2]\n",
    "    \n",
    "    # expand k\n",
    "    k = k0.unsqueeze(0).unsqueeze(0).expand(3,3,k0.size()[0])\n",
    "    k = k.permute(2, 0, 1)\n",
    "    \n",
    "    # expand epsilon\n",
    "    epsilon = epsilon0.unsqueeze(0).unsqueeze(0).expand(3,3,epsilon0.size()[0])\n",
    "    epsilon = epsilon.permute(2, 0, 1)\n",
    "    \n",
    "    # normalize S and R\n",
    "    s_hat = k/epsilon*s\n",
    "    r_hat = k/epsilon*r\n",
    "    \n",
    "    # compute invariants and basis tensors\n",
    "    inv = get_invariants(s_hat, r_hat)\n",
    "    T = get_tensor_functions(s_hat, r_hat)\n",
    "    \n",
    "    # compute anisotropy tensor b\n",
    "    b_rans = rs_rans/(2*k) - 1/3 * th.eye(3).unsqueeze(0).expand(k0.shape[0],3,3)\n",
    "    \n",
    "    # interpolate inv, T\n",
    "    inv_interp = th.tensor(griddata(cellCenters, inv, (grid_x, grid_y), method='linear')).flatten(end_dim = 1)\n",
    "    T_interp = th.tensor(griddata(cellCenters, T, (grid_x, grid_y), method='linear')).flatten(end_dim = 1)\n",
    "    b_rans_interp = th.tensor(griddata(cellCenters, b_rans, (grid_x, grid_y), method='linear')).flatten(end_dim = 1)\n",
    "    grid_interp = th.tensor([grid_x.flatten(), grid_y.flatten()]).T\n",
    "    \n",
    "    # remove points close to boundary\n",
    "    inv_interp = inv_interp[mask]\n",
    "    T_interp = T_interp[mask]\n",
    "    grid_interp = grid[mask]\n",
    "    b_rans_interp = b_rans_interp[mask]\n",
    "    \n",
    "    # store inv, T, grid\n",
    "    storage_path = os.sep.join([train_data_path, 'tensordata', case])\n",
    "#     th.save(inv_interp, os.sep.join([storage_path, 'inv-torch.th']))\n",
    "#     th.save(T_interp, os.sep.join([storage_path, 'T-torch.th']))\n",
    "#     th.save(b_rans_interp, os.sep.join([storage_path, 'b_rans-torch.th']))\n",
    "#     th.save(grid_interp, os.sep.join([storage_path, 'grid-torch.th']))"
   ]
  },
  {
   "cell_type": "code",
   "execution_count": 29,
   "metadata": {},
   "outputs": [],
   "source": [
    "# loop for DNS data\n",
    "for case in cases:\n",
    "    # define current path and read in data\n",
    "    curr_case = os.sep.join([train_data_path, 'dns', case])\n",
    "    data = np.loadtxt(os.sep.join([curr_case, 'ASCII_Breuer.dat']), skiprows=16)\n",
    "    \n",
    "    # get shape of data\n",
    "    N, M = data.shape\n",
    "    \n",
    "    # extract relevant data from dataset\n",
    "    rs_dns = th.tensor(np.array([data[:,6], data[:,9], np.full(N,0),\n",
    "                                data[:,9], data[:,7], np.full(N,0),\n",
    "                                np.full(N,0), np.full(N,0), data[:,8]]).T.reshape(-1,3,3))\n",
    "    cellCenters = th.tensor([data[:,0],data[:,1]]).T\n",
    "    k0 = 0.5*th.from_numpy(rs_dns.numpy().trace(axis1 = 1, axis2 = 2))\n",
    "    \n",
    "    # expand k\n",
    "    k = k0.unsqueeze(0).unsqueeze(0).expand(3,3,k0.shape[0])\n",
    "    k = k.permute(2, 0, 1)\n",
    "\n",
    "    # compute anisotropy tensor b\n",
    "    b_dns = rs_dns/(2*k) - 1/3 * th.eye(3).unsqueeze(0).expand(k0.shape[0],3,3)\n",
    "    \n",
    "    # interpolate b\n",
    "    b_dns_interp = th.tensor(griddata(cellCenters, b_dns, (grid_x, grid_y), method='linear')).flatten(end_dim = 1)\n",
    "    \n",
    "    # remove points close to boundary\n",
    "    b_dns_interp = b_dns_interp[mask]\n",
    "    \n",
    "    # save b\n",
    "    storage_path = os.sep.join([train_data_path, 'tensordata', case])\n",
    "#     th.save(b_dns_interp, os.sep.join([storage_path, 'b_dns-torch.th']))"
   ]
  },
  {
   "cell_type": "code",
   "execution_count": 9,
   "metadata": {},
   "outputs": [],
   "source": [
    "# grid_x, grid_y = np.mgrid[0.:9.:90j, 0.:3.05:30j]"
   ]
  },
  {
   "cell_type": "code",
   "execution_count": 10,
   "metadata": {},
   "outputs": [],
   "source": [
    "mask = mask_boundary_points(grid_x.flatten(), grid_y.flatten())\n",
    "grid_x_cut, grid_y_cut = (grid_x.flatten()[mask], grid_y.flatten()[mask])"
   ]
  },
  {
   "cell_type": "code",
   "execution_count": 11,
   "metadata": {},
   "outputs": [
    {
     "data": {
      "text/plain": [
       "<matplotlib.collections.PathCollection at 0x7fa17e9e6430>"
      ]
     },
     "execution_count": 11,
     "metadata": {},
     "output_type": "execute_result"
    },
    {
     "data": {
      "image/png": "[encoded data removed]",
      "text/plain": [
       "<Figure size 1440x360 with 1 Axes>"
      ]
     },
     "metadata": {
      "needs_background": "light"
     },
     "output_type": "display_data"
    }
   ],
   "source": [
    "fig, ax = plt.subplots(figsize=(20,5))\n",
    "\n",
    "ax.scatter(grid_x, grid_y, s=10)\n",
    "ax.scatter(grid_x_cut, grid_y_cut,s=3)"
   ]
  },
  {
   "cell_type": "code",
   "execution_count": 33,
   "metadata": {},
   "outputs": [
    {
     "data": {
      "text/plain": [
       "<matplotlib.colorbar.Colorbar at 0x7fa17f189d60>"
      ]
     },
     "execution_count": 33,
     "metadata": {},
     "output_type": "execute_result"
    },
    {
     "data": {
      "image/png": "[encoded data removed]",
      "text/plain": [
       "<Figure size 1440x360 with 2 Axes>"
      ]
     },
     "metadata": {
      "needs_background": "light"
     },
     "output_type": "display_data"
    }
   ],
   "source": [
    "grid_all_x, grid_all_y = np.mgrid[0.:9.:300j, 0.:3.035:100j]\n",
    "grid_all_z1 = griddata(grid_interp, T_interp[:,4,2,1], (grid_all_x, grid_all_y), method='linear') # inv[:,1]\n",
    "\n",
    "fig, ax = plt.subplots(figsize=(20,5))\n",
    "DNS_all_domain = ax.contourf(grid_all_x, grid_all_y, grid_all_z1)\n",
    "fig.colorbar(DNS_all_domain, ax=ax)"
   ]
  },
  {
   "cell_type": "code",
   "execution_count": 13,
   "metadata": {},
   "outputs": [
    {
     "data": {
      "text/plain": [
       "torch.Size([5908, 3, 3])"
      ]
     },
     "execution_count": 13,
     "metadata": {},
     "output_type": "execute_result"
    }
   ],
   "source": [
    "b_interp.shape"
   ]
  },
  {
   "cell_type": "code",
   "execution_count": null,
   "metadata": {},
   "outputs": [],
   "source": []
  }
 ],
 "metadata": {
  "kernelspec": {
   "display_name": "Python 3",
   "language": "python",
   "name": "python3"
  },
  "language_info": {
   "codemirror_mode": {
    "name": "ipython",
    "version": 3
   },
   "file_extension": ".py",
   "mimetype": "text/x-python",
   "name": "python",
   "nbconvert_exporter": "python",
   "pygments_lexer": "ipython3",
   "version": "3.8.3"
  }
 },
 "nbformat": 4,
 "nbformat_minor": 4
}
