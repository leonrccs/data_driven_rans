{
 "cells": [
  {
   "cell_type": "code",
   "execution_count": 1,
   "metadata": {},
   "outputs": [],
   "source": [
    "import numpy as np\n",
    "import torch as th\n",
    "import matplotlib.pyplot as plt\n",
    "import sys, re, os\n",
    "\n",
    "# own scrips\n",
    "sys.path.insert(1, '/home/leonriccius/PycharmProjects/data_driven_rans')\n",
    "from scripts.preProcess import readPatchData"
   ]
  },
  {
   "cell_type": "code",
   "execution_count": 10,
   "metadata": {},
   "outputs": [
    {
     "name": "stdout",
     "output_type": "stream",
     "text": [
      "Attempting to read file: /home/leonriccius/Desktop/ConvDivChannel/Re12600_mesh_convergence/Re12600_kOmega_80/7000//wallShearStress\n",
      "Parsing file...\n",
      "Data field file successfully read.\n",
      "Attempting to read file: /home/leonriccius/Desktop/ConvDivChannel/Re12600_mesh_convergence/Re12600_kOmega_80/7000//cellCenters\n",
      "Parsing file...\n",
      "Data field file successfully read.\n"
     ]
    }
   ],
   "source": [
    "path = '/home/leonriccius/Desktop/ConvDivChannel/Re12600_mesh_convergence/Re12600_kOmega_80/7000/'\n",
    "file = 'wallShearStress'\n",
    "fileName = os.sep.join([path, file])\n",
    "patch = 'bottomWall'\n",
    "shearStress = readPatchData(os.sep.join([path, 'wallShearStress']), patch)\n",
    "cellCenters = readPatchData(os.sep.join([path, 'cellCenters']), patch)"
   ]
  },
  {
   "cell_type": "code",
   "execution_count": 11,
   "metadata": {},
   "outputs": [],
   "source": [
    "tangent = th.zeros_like(cellCenters)\n",
    "length = cellCenters.shape[0]\n",
    "\n",
    "# compute tangents\n",
    "for i in range(length):\n",
    "    if i == 0:\n",
    "        tangent[0,:] = cellCenters[i+1] - cellCenters[i]\n",
    "    elif i==length-1:\n",
    "        tangent[i,:] = cellCenters[i] - cellCenters[i-1]\n",
    "    else:\n",
    "        tangent[i,:] = cellCenters[i+1] - cellCenters[i-1]\n",
    "        \n",
    "# normalize tangents\n",
    "tangent = tangent/th.norm(tangent, dim=1).unsqueeze(1)\n",
    "\n",
    "# project shear stress onto tangent vector\n",
    "shearStressTangential = th.einsum('ij,ij->i', tangent, shearStress)"
   ]
  },
  {
   "cell_type": "code",
   "execution_count": 12,
   "metadata": {},
   "outputs": [
    {
     "data": {
      "text/plain": [
       "torch.Size([140])"
      ]
     },
     "execution_count": 12,
     "metadata": {},
     "output_type": "execute_result"
    }
   ],
   "source": [
    "shearStressTangential.shape"
   ]
  },
  {
   "cell_type": "code",
   "execution_count": 13,
   "metadata": {},
   "outputs": [
    {
     "data": {
      "text/plain": [
       "torch.Size([140])"
      ]
     },
     "execution_count": 13,
     "metadata": {},
     "output_type": "execute_result"
    }
   ],
   "source": [
    "th.norm(tangent, dim=1).shape"
   ]
  },
  {
   "cell_type": "code",
   "execution_count": 14,
   "metadata": {},
   "outputs": [
    {
     "data": {
      "text/plain": [
       "(0.0, 2.0)"
      ]
     },
     "execution_count": 14,
     "metadata": {},
     "output_type": "execute_result"
    },
    {
     "data": {
      "image/png": "[encoded data removed]",
      "text/plain": [
       "<Figure size 900x144 with 1 Axes>"
      ]
     },
     "metadata": {
      "needs_background": "light"
     },
     "output_type": "display_data"
    }
   ],
   "source": [
    "fig, ax = plt.subplots(figsize = (12.5, 2))\n",
    "ax.quiver(cellCenters[::5,0], cellCenters[::5,1], tangent[::5,0], tangent[::5,1])\n",
    "ax.set_ylim([0,2])"
   ]
  },
  {
   "cell_type": "code",
   "execution_count": 25,
   "metadata": {},
   "outputs": [
    {
     "data": {
      "text/plain": [
       "(5.0, 8.0)"
      ]
     },
     "execution_count": 25,
     "metadata": {},
     "output_type": "execute_result"
    },
    {
     "data": {
      "image/png": "[encoded data removed]",
      "text/plain": [
       "<Figure size 432x288 with 1 Axes>"
      ]
     },
     "metadata": {
      "needs_background": "light"
     },
     "output_type": "display_data"
    }
   ],
   "source": [
    "fig, ax = plt.subplots()\n",
    "ax.plot(cellCenters[:,0], shearStress[:,1])\n",
    "ax.set_xlim([5,8])\n",
    "# ax.set_ylim([-0.006, 0.001])"
   ]
  },
  {
   "cell_type": "code",
   "execution_count": null,
   "metadata": {},
   "outputs": [],
   "source": []
  }
 ],
 "metadata": {
  "kernelspec": {
   "display_name": "Python 3",
   "language": "python",
   "name": "python3"
  },
  "language_info": {
   "codemirror_mode": {
    "name": "ipython",
    "version": 3
   },
   "file_extension": ".py",
   "mimetype": "text/x-python",
   "name": "python",
   "nbconvert_exporter": "python",
   "pygments_lexer": "ipython3",
   "version": "3.8.5"
  }
 },
 "nbformat": 4,
 "nbformat_minor": 4
}
