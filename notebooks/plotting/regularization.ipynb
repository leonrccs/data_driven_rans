{
 "cells": [
  {
   "cell_type": "code",
   "execution_count": 7,
   "metadata": {},
   "outputs": [],
   "source": [
    "# general\n",
    "import sys, os, path\n",
    "import datetime\n",
    "\n",
    "# nn related\n",
    "import torch\n",
    "import torch as th\n",
    "import torch.nn as nn\n",
    "import numpy as np\n",
    "from numpy import linalg as la\n",
    "\n",
    "import matplotlib.pyplot as plt\n",
    "from matplotlib.ticker import (MultipleLocator, FormatStrFormatter,\n",
    "                               AutoMinorLocator)\n",
    "import matplotlib as mpl\n",
    "from matplotlib.transforms import Bbox\n",
    "\n",
    "import sys, re, os, path\n",
    "from matplotlib import axis\n",
    "import seaborn as sns\n",
    "colors=sns.color_palette()\n",
    "\n",
    "# own scrips\n",
    "sys.path.insert(1, '/home/leonriccius/PycharmProjects/data_driven_rans')\n",
    "from scripts.preProcess import readPatchData\n",
    "from scripts.preProcess import readCellCenters\n",
    "from scripts.preProcess import readVectorData\n",
    "from scripts.utilities import NoStdStreams\n",
    "from scripts.utilities import bisection\n",
    "\n",
    "from scripts import preProcess as pre"
   ]
  },
  {
   "cell_type": "code",
   "execution_count": 8,
   "metadata": {},
   "outputs": [
    {
     "data": {
      "text/plain": [
       "7000"
      ]
     },
     "execution_count": 8,
     "metadata": {},
     "output_type": "execute_result"
    }
   ],
   "source": [
    "rans_path = '/home/leonriccius/Documents/Fluid_Data/rans_kaandorp/ConvDivChannel/Re7900_kOmega_100'\n",
    "rans_time = max([int(entry) for entry in os.listdir(rans_path) if entry.isnumeric()])\n",
    "rans_time"
   ]
  },
  {
   "cell_type": "code",
   "execution_count": 9,
   "metadata": {},
   "outputs": [],
   "source": [
    "with NoStdStreams():\n",
    "    u = pre.readVectorData(rans_time, 'U', rans_path)\n",
    "    grid = pre.readCellCenters(rans_time, rans_path)\n",
    "    rs = pre.readSymTensorData(rans_time, 'turbulenceProperties:R', rans_path).reshape(-1, 3, 3)\n",
    "    grad_u = pre.readTensorData(rans_time, 'grad(U)', rans_path)\n",
    "    grad_k = pre.readVectorData(rans_time, 'grad(k)', rans_path)\n",
    "    grad_p = pre.readVectorData(rans_time, 'grad(p)', rans_path)\n",
    "    y_wall = pre.readScalarData(rans_time, 'wallDistance', rans_path)\n",
    "    k = pre.readScalarData(rans_time, 'k', rans_path)\n",
    "    omega = pre.readScalarData(rans_time, 'omega', rans_path)  # 'epsilon' or 'omega'\n",
    "    epsilon = omega * k * 0.09  # 0.09 is beta star\n",
    "    nu = 3.5714285714285714e-04"
   ]
  },
  {
   "cell_type": "code",
   "execution_count": 15,
   "metadata": {},
   "outputs": [],
   "source": [
    "# define model paths\n",
    "model_base = '/home/leonriccius/PycharmProjects/data_driven_rans/storage/models/kaandorp_data/weight_decay/cdc7900'\n",
    "buildin_path = os.sep.join([model_base, 'builtin'])\n",
    "sep_path = os.sep.join([model_base, 'sep'])\n",
    "\n"
   ]
  },
  {
   "cell_type": "code",
   "execution_count": null,
   "metadata": {},
   "outputs": [],
   "source": []
  }
 ],
 "metadata": {
  "kernelspec": {
   "display_name": "Python 3",
   "language": "python",
   "name": "python3"
  },
  "language_info": {
   "codemirror_mode": {
    "name": "ipython",
    "version": 3
   },
   "file_extension": ".py",
   "mimetype": "text/x-python",
   "name": "python",
   "nbconvert_exporter": "python",
   "pygments_lexer": "ipython3",
   "version": "3.8.5"
  }
 },
 "nbformat": 4,
 "nbformat_minor": 4
}
