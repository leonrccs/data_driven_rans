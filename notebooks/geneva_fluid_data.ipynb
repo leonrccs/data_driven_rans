{
 "cells": [
  {
   "cell_type": "code",
   "execution_count": 1,
   "metadata": {},
   "outputs": [],
   "source": [
    "# general\n",
    "import sys, os, path\n",
    "import datetime\n",
    "\n",
    "# nn related\n",
    "import torch\n",
    "import torch as th\n",
    "import torch.nn as nn\n",
    "import numpy as np\n",
    "from numpy import linalg as la\n",
    "from sklearn.model_selection import train_test_split\n",
    "from sklearn.preprocessing import StandardScaler\n",
    "\n",
    "# postprocessing\n",
    "import matplotlib.pyplot as plt\n",
    "import matplotlib.tri as tri\n",
    "import matplotlib\n",
    "from scipy.interpolate import griddata\n",
    "from mpl_toolkits.axes_grid1.axes_divider import HBoxDivider\n",
    "import mpl_toolkits.axes_grid1.axes_size as Size\n",
    "import seaborn as sns\n",
    "import tikzplotlib as tikz\n",
    "\n",
    "# own scrips\n",
    "sys.path.insert(1, '/home/leonriccius/PycharmProjects/data_driven_rans')\n",
    "\n",
    "from scripts import preProcess\n",
    "from scripts import TensorBasedNN\n",
    "from scripts.TensorBasedNN import TBNN_generic\n",
    "from scripts.utilities import * # get_invariants, get_tensor_functions, sigmoid_scaling, mean_std_scaling\n",
    "from scripts.torchToFoam import writesymmtensor\n",
    "from scripts.barymap import BarMap\n",
    "from scripts import *\n",
    "# from utilities import mask_boundary_points\n",
    "# from utilities import get_invariants\n",
    "# from utilities import get_tensor_functions\n",
    "# from torchToFoam import writesymmtensor\n",
    "\n",
    "# standard datatype\n",
    "dtype = torch.double"
   ]
  },
  {
   "cell_type": "code",
   "execution_count": 6,
   "metadata": {},
   "outputs": [
    {
     "data": {
      "text/plain": [
       "'90'"
      ]
     },
     "execution_count": 6,
     "metadata": {},
     "output_type": "execute_result"
    }
   ],
   "source": [
    "path = '/home/leonriccius/Documents/rans-uncertainty/training-data/periodic-hills/RANS'\n",
    "rans_time = max([entry for entry in os.listdir(path) if entry.isnumeric()])"
   ]
  },
  {
   "cell_type": "code",
   "execution_count": null,
   "metadata": {},
   "outputs": [],
   "source": []
  }
 ],
 "metadata": {
  "kernelspec": {
   "display_name": "Python 3",
   "language": "python",
   "name": "python3"
  },
  "language_info": {
   "codemirror_mode": {
    "name": "ipython",
    "version": 3
   },
   "file_extension": ".py",
   "mimetype": "text/x-python",
   "name": "python",
   "nbconvert_exporter": "python",
   "pygments_lexer": "ipython3",
   "version": "3.8.5"
  }
 },
 "nbformat": 4,
 "nbformat_minor": 4
}
