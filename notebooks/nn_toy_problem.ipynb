{
 "cells": [
  {
   "cell_type": "code",
   "execution_count": 18,
   "metadata": {},
   "outputs": [],
   "source": [
    "import torch\n",
    "import numpy as np\n",
    "from matplotlib import pyplot as plt\n",
    "dtype = torch.float\n",
    "from torch import nn\n",
    "from sklearn.model_selection import train_test_split\n",
    "from sklearn.preprocessing import StandardScaler"
   ]
  },
  {
   "cell_type": "code",
   "execution_count": 19,
   "metadata": {},
   "outputs": [
    {
     "data": {
      "image/png": "[encoded data removed]",
      "text/plain": [
       "<Figure size 576x360 with 1 Axes>"
      ]
     },
     "metadata": {
      "needs_background": "light"
     },
     "output_type": "display_data"
    }
   ],
   "source": [
    "data = np.loadtxt('motor.dat')\n",
    "X = data[:, 0][:, None]\n",
    "Y = data[:, 1][:, None]\n",
    "N = len(X)\n",
    "fig, ax = plt.subplots(figsize=(8, 5))\n",
    "ax.plot(X, Y, 'x', markeredgewidth=2)\n",
    "ax.set_xlabel('$x$')\n",
    "ax.set_ylabel('$y$');"
   ]
  },
  {
   "cell_type": "code",
   "execution_count": 20,
   "metadata": {},
   "outputs": [],
   "source": [
    "# N is batch size; D_in is input dimension;\n",
    "# H is hidden dimension; D_out is output dimension.\n",
    "D_in, H, D_out = 1, 200, 1"
   ]
  },
  {
   "cell_type": "code",
   "execution_count": 21,
   "metadata": {},
   "outputs": [],
   "source": [
    "class NeuralNetwork(nn.Module):\n",
    "    \"\"\"\n",
    "    An implementation of a fully connected feed forward \n",
    "    Neural network in pytorch. \n",
    "    \"\"\"\n",
    "    def __init__(self, layersizes=[1, 1], \n",
    "                 activation=torch.relu,\n",
    "                 final_layer_activation=None):\n",
    "        \"\"\"\n",
    "        INPUTS:\n",
    "            layersizes <list/tuple>: An iterable ordered object containing\n",
    "                                 the sizes of the tensors from the\n",
    "                                 input layer to the final output. \n",
    "                                 (See example below). \n",
    "            activation <callable>: A python callable through which\n",
    "                                    torch backpropagation is possible.\n",
    "            final_layer_activation <callable>: A python callable for \n",
    "                                    the final layer activation function.\n",
    "                                    Default: None (for regression problems)\n",
    "        \n",
    "        EXAMPLE: \n",
    "            To define a NN with an input of size 2, 2 hidden layers of size \n",
    "            50 and 50, output of size 1, with tanh activation function: \n",
    "            >> layers = [2, 50, 50, 1]\n",
    "            >> neuralnet = NeuralNet(layers, activation=torch.tanh)\n",
    "            >> x = torch.randn(100, 2)   # 100 randomly sampled inputs \n",
    "            >> output = neuralnet(x)  # compute the prediction at x.\n",
    "        \n",
    "        Inheriting from nn.Module ensures that all\n",
    "        NN layers defined within the __init__ function are captured and \n",
    "        stored in an OrderedDict object for easy accesability.\n",
    "        \"\"\"\n",
    "        super(NeuralNetwork, self).__init__()\n",
    "        self.layersizes = layersizes\n",
    "        self.input_dim = self.layersizes[0]\n",
    "        self.hidden_sizes = self.layersizes[1:-1]\n",
    "        self.output_dim = self.layersizes[-1]\n",
    "        self.activation = activation\n",
    "        self.final_layer_activation = final_layer_activation\n",
    "        if self.final_layer_activation is None:\n",
    "            self.final_layer_activation = nn.Identity()\n",
    "        self.nlayers = len(self.hidden_sizes) + 1\n",
    "        self.layernames = [] ## Dictionary to store all the FC layers \n",
    "        \n",
    "        # define FC layers\n",
    "        for i in range(self.nlayers):\n",
    "            layername = 'fc_{}'.format(i+1)\n",
    "            layermodule = nn.Linear(self.layersizes[i], self.layersizes[i+1])\n",
    "            self.layernames.append(layername)\n",
    "            setattr(self, layername, layermodule)\n",
    "        \n",
    "    def forward(self, x):\n",
    "        \"\"\"\n",
    "        Implement the forward pass of the NN. \n",
    "        \"\"\"\n",
    "        for i, layername in enumerate(self.layernames):\n",
    "            fclayer = getattr(self, layername)\n",
    "            x = fclayer(x)\n",
    "            if i == self.nlayers - 1:\n",
    "                x = self.final_layer_activation(x)\n",
    "            else:\n",
    "                x = self.activation(x)\n",
    "        return x"
   ]
  },
  {
   "cell_type": "code",
   "execution_count": 22,
   "metadata": {},
   "outputs": [],
   "source": [
    "# model = NeuralNetwork([1, 20, 20, 1], torch.tanh)\n",
    "# x = torch.linspace(0., 1., 100)[:, None]\n",
    "# for m in model.modules():\n",
    "#     print(m)"
   ]
  },
  {
   "cell_type": "code",
   "execution_count": 23,
   "metadata": {},
   "outputs": [],
   "source": [
    "# # Use the nn package to define our model and loss function.\n",
    "# model = torch.nn.Sequential(\n",
    "#     torch.nn.Linear(D_in, H),\n",
    "#     torch.nn.ReLU(),\n",
    "#     torch.nn.Linear(H, H),\n",
    "#     torch.nn.ReLU(),\n",
    "#     torch.nn.Linear(H, D_out),\n",
    "# )\n",
    "mse = torch.nn.MSELoss()\n",
    "\n",
    "# instantiate the network \n",
    "layersizes = [1, 20, 20, 1]\n",
    "activation = torch.tanh\n",
    "model = NeuralNetwork(layersizes=layersizes, \n",
    "                    activation=activation)\n",
    "\n",
    "## L2 regularization\n",
    "lmbda = 1e-3 # reg. constant \n",
    "def L2loss(lmbda, model):\n",
    "    reg = torch.tensor(0.)\n",
    "    for m in model.modules():\n",
    "        if hasattr(m, 'weight'):\n",
    "            reg += m.weight.norm()**2\n",
    "    return lmbda*reg"
   ]
  },
  {
   "cell_type": "code",
   "execution_count": 24,
   "metadata": {},
   "outputs": [],
   "source": [
    "Ntrain = int(0.7*N)\n",
    "Xtrain, Xval, Ytrain, Yval = train_test_split(X, Y, train_size=Ntrain)\n",
    "\n",
    "# scale the data\n",
    "xscaler = StandardScaler()\n",
    "yscaler = StandardScaler()\n",
    "Xtrain=xscaler.fit_transform(Xtrain)\n",
    "Ytrain=yscaler.fit_transform(Ytrain)\n",
    "Xval, Yval = xscaler.transform(Xval), yscaler.transform(Yval)"
   ]
  },
  {
   "cell_type": "code",
   "execution_count": 32,
   "metadata": {},
   "outputs": [
    {
     "data": {
      "text/plain": [
       "array([ 3,  3,  4,  4,  6,  8, 11, 12, 16, 18, 19, 20, 20, 21, 21, 21, 22,\n",
       "       27, 27, 28, 28, 29, 33, 33, 35, 36, 36, 37, 37, 37, 43, 46, 51, 53,\n",
       "       56, 57, 58, 61, 61, 62])"
      ]
     },
     "execution_count": 32,
     "metadata": {},
     "output_type": "execute_result"
    }
   ],
   "source": [
    "batchsize = 40\n",
    "np.sort(np.random.randint(0, len(Xtrain), batchsize))"
   ]
  },
  {
   "cell_type": "code",
   "execution_count": 26,
   "metadata": {},
   "outputs": [
    {
     "name": "stdout",
     "output_type": "stream",
     "text": [
      "(65, 1)\n"
     ]
    }
   ],
   "source": [
    "print(Xtrain.shape)"
   ]
  },
  {
   "cell_type": "code",
   "execution_count": 12,
   "metadata": {},
   "outputs": [
    {
     "name": "stdout",
     "output_type": "stream",
     "text": [
      " [Iteration  100] Validation MSE loss: 0.260\n",
      " [Iteration  200] Validation MSE loss: 0.208\n",
      " [Iteration  300] Validation MSE loss: 0.211\n",
      " [Iteration  400] Validation MSE loss: 0.213\n",
      " [Iteration  500] Validation MSE loss: 0.202\n",
      " [Iteration  600] Validation MSE loss: 0.198\n",
      " [Iteration  700] Validation MSE loss: 0.184\n",
      " [Iteration  800] Validation MSE loss: 0.214\n",
      " [Iteration  900] Validation MSE loss: 0.181\n",
      " [Iteration 1000] Validation MSE loss: 0.208\n",
      " [Iteration 1100] Validation MSE loss: 0.205\n",
      " [Iteration 1200] Validation MSE loss: 0.185\n",
      " [Iteration 1300] Validation MSE loss: 0.183\n",
      " [Iteration 1400] Validation MSE loss: 0.181\n",
      " [Iteration 1500] Validation MSE loss: 0.180\n",
      " [Iteration 1600] Validation MSE loss: 0.177\n",
      " [Iteration 1700] Validation MSE loss: 0.191\n",
      " [Iteration 1800] Validation MSE loss: 0.208\n",
      " [Iteration 1900] Validation MSE loss: 0.199\n",
      " [Iteration 2000] Validation MSE loss: 0.213\n",
      " [Iteration 2100] Validation MSE loss: 0.229\n",
      " [Iteration 2200] Validation MSE loss: 0.180\n",
      " [Iteration 2300] Validation MSE loss: 0.206\n",
      " [Iteration 2400] Validation MSE loss: 0.204\n",
      " [Iteration 2500] Validation MSE loss: 0.183\n",
      " [Iteration 2600] Validation MSE loss: 0.182\n",
      " [Iteration 2700] Validation MSE loss: 0.196\n",
      " [Iteration 2800] Validation MSE loss: 0.181\n",
      " [Iteration 2900] Validation MSE loss: 0.172\n",
      " [Iteration 3000] Validation MSE loss: 0.204\n",
      " [Iteration 3100] Validation MSE loss: 0.173\n",
      " [Iteration 3200] Validation MSE loss: 0.181\n",
      " [Iteration 3300] Validation MSE loss: 0.224\n",
      " [Iteration 3400] Validation MSE loss: 0.222\n",
      " [Iteration 3500] Validation MSE loss: 0.276\n",
      " [Iteration 3600] Validation MSE loss: 0.234\n",
      " [Iteration 3700] Validation MSE loss: 0.199\n",
      " [Iteration 3800] Validation MSE loss: 0.215\n",
      " [Iteration 3900] Validation MSE loss: 0.182\n",
      " [Iteration 4000] Validation MSE loss: 0.176\n",
      " [Iteration 4100] Validation MSE loss: 0.198\n",
      " [Iteration 4200] Validation MSE loss: 0.239\n",
      " [Iteration 4300] Validation MSE loss: 0.184\n",
      " [Iteration 4400] Validation MSE loss: 0.231\n",
      " [Iteration 4500] Validation MSE loss: 0.211\n",
      " [Iteration 4600] Validation MSE loss: 0.199\n",
      " [Iteration 4700] Validation MSE loss: 0.209\n",
      " [Iteration 4800] Validation MSE loss: 0.172\n",
      " [Iteration 4900] Validation MSE loss: 0.223\n",
      " [Iteration 5000] Validation MSE loss: 0.199\n"
     ]
    }
   ],
   "source": [
    "batchsize = 32\n",
    "Xtrain, Ytrain = torch.Tensor(Xtrain), torch.Tensor(Ytrain)\n",
    "Xval, Yval = torch.Tensor(Xval), torch.Tensor(Yval)\n",
    "best_stat_dict = model.state_dict()\n",
    "best_val_mse_loss = np.inf\n",
    "\n",
    "# defining optimizer\n",
    "learning_rate = 1e-2\n",
    "optimizer = torch.optim.Adam(model.parameters(), lr=learning_rate)\n",
    "for i in range(5000):\n",
    "    \n",
    "    batchidx = np.random.randint(0, len(Xtrain), batchsize)\n",
    "    xbatch, ybatch = Xtrain[batchidx], Ytrain[batchidx]\n",
    "    \n",
    "    # Forward pass: compute predicted y by passing x to the model.\n",
    "    ypred = model(xbatch)\n",
    "\n",
    "    # Compute and print regularized loss.\n",
    "    loss = mse(ypred, ybatch) + L2loss(lmbda, model)\n",
    "#     if t % 100 == 99:\n",
    "#         print(t, loss.item())\n",
    "\n",
    "    # zero out gradient buffers\n",
    "    optimizer.zero_grad()\n",
    "\n",
    "    # Backward pass: compute gradient of the loss with respect to model\n",
    "    # parameters\n",
    "    loss.backward()\n",
    "\n",
    "    # Calling the step function on an Optimizer makes an update to its\n",
    "    # parameters\n",
    "    optimizer.step()\n",
    "        # print progress \n",
    "    if (i+1)%100 == 0:\n",
    "        val_mse_loss = mse(Yval, model(Xval))\n",
    "        print(' [Iteration %4d] Validation MSE loss: %.3f'%(i+1, val_mse_loss))\n",
    "        if val_mse_loss < best_val_mse_loss:\n",
    "            best_state_dict = model.state_dict()\n",
    "model.load_state_dict(best_stat_dict);"
   ]
  },
  {
   "cell_type": "code",
   "execution_count": 17,
   "metadata": {},
   "outputs": [
    {
     "data": {
      "text/plain": [
       "<matplotlib.collections.PathCollection at 0x7fe578c12af0>"
      ]
     },
     "execution_count": 17,
     "metadata": {},
     "output_type": "execute_result"
    },
    {
     "data": {
      "image/png": "[encoded data removed]",
      "text/plain": [
       "<Figure size 576x360 with 1 Axes>"
      ]
     },
     "metadata": {
      "needs_background": "light"
     },
     "output_type": "display_data"
    }
   ],
   "source": [
    "x_test = torch.tensor(xscaler.transform(np.linspace(5,60,100)[:,None]), dtype=dtype)\n",
    "y_test = model(x_test)\n",
    "fig, ax = plt.subplots(figsize=(8,5))\n",
    "ax.plot(xscaler.inverse_transform(x_test.detach().numpy()), yscaler.inverse_transform(y_test.detach().numpy()))\n",
    "ax.scatter(X, Y, marker='x', c='r')"
   ]
  }
 ],
 "metadata": {
  "kernelspec": {
   "display_name": "Python 3",
   "language": "python",
   "name": "python3"
  },
  "language_info": {
   "codemirror_mode": {
    "name": "ipython",
    "version": 3
   },
   "file_extension": ".py",
   "mimetype": "text/x-python",
   "name": "python",
   "nbconvert_exporter": "python",
   "pygments_lexer": "ipython3",
   "version": "3.8.5"
  }
 },
 "nbformat": 4,
 "nbformat_minor": 4
}
